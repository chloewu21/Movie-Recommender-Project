{
 "cells": [
  {
   "cell_type": "code",
   "execution_count": 1,
   "metadata": {},
   "outputs": [],
   "source": [
    "import sklearn\n",
    "import os\n",
    "import pandas as pd\n",
    "from zipfile import ZipFile\n",
    "from fuzzywuzzy import fuzz\n",
    "from itertools import chain\n",
    "from io import BytesIO\n",
    "from urllib.request import urlopen\n",
    "import ipywidgets as widgets\n",
    "from IPython.display import display\n",
    "from sklearn.feature_extraction.text import TfidfVectorizer"
   ]
  },
  {
   "cell_type": "code",
   "execution_count": 2,
   "metadata": {},
   "outputs": [],
   "source": [
    "# Read data from dataset online directly\n",
    "resp = urlopen('https://files.grouplens.org/datasets/movielens/ml-25m.zip')\n",
    "zf = ZipFile(BytesIO(resp.read()))\n",
    "ratings = pd.read_csv(zf.open('ml-25m/ratings.csv'))\n",
    "movies = pd.read_csv(zf.open('ml-25m/movies.csv'))\n",
    "tags = pd.read_csv(zf.open('ml-25m/tags.csv'))\n",
    "links = pd.read_csv(zf.open('ml-25m/links.csv'))\n",
    "genome_scores = pd.read_csv(zf.open('ml-25m/genome-scores.csv'))"
   ]
  },
  {
   "cell_type": "code",
   "execution_count": 3,
   "metadata": {},
   "outputs": [],
   "source": [
    "# import pandas as pd\n",
    "# path = \"C:/Users/awesu/Movies Dataset\"\n",
    "# ratings_df = pd.read_csv(path + \"/ratings.csv\")\n",
    "# movies_df = pd.read_csv(path + \"/movies.csv\")\n",
    "# tags_df = pd.read_csv(path + \"/tags.csv\")\n",
    "# links_df = pd.read_csv(path + \"/links.csv\")\n",
    "# genome-scores_df = pd.read_csv(path + \"/genome-scores.csv\")\n"
   ]
  },
  {
   "cell_type": "code",
   "execution_count": 4,
   "metadata": {},
   "outputs": [],
   "source": [
    "# ratings = pd.read_csv(path + \"/ratings.csv\")\n",
    "# movies = pd.read_csv(path + \"/movies.csv\")\n",
    "# tags = pd.read_csv(path + \"/tags.csv\")\n",
    "# links = pd.read_csv(path + \"/links.csv\")\n",
    "# genome_scores = pd.read_csv(path + \"/genome-scores.csv\")"
   ]
  },
  {
   "cell_type": "code",
   "execution_count": 5,
   "metadata": {},
   "outputs": [],
   "source": [
    "#movies.head()"
   ]
  },
  {
   "cell_type": "code",
   "execution_count": 6,
   "metadata": {},
   "outputs": [],
   "source": [
    "import re\n",
    "\n",
    "def clean_title(title):\n",
    "    title = re.sub(\"[^a-zA-Z0-9 ]\", \"\", title)\n",
    "    return title"
   ]
  },
  {
   "cell_type": "code",
   "execution_count": 7,
   "metadata": {},
   "outputs": [],
   "source": [
    "movies[\"clean_title\"] = movies[\"title\"].apply(clean_title)"
   ]
  },
  {
   "cell_type": "code",
   "execution_count": 8,
   "metadata": {},
   "outputs": [],
   "source": [
    "#movies"
   ]
  },
  {
   "cell_type": "code",
   "execution_count": 9,
   "metadata": {},
   "outputs": [],
   "source": [
    "from sklearn.feature_extraction.text import TfidfVectorizer\n",
    "vectorizer = TfidfVectorizer(ngram_range=(1,2))\n",
    "\n",
    "tfidf = vectorizer.fit_transform(movies[\"clean_title\"])"
   ]
  },
  {
   "cell_type": "code",
   "execution_count": 10,
   "metadata": {},
   "outputs": [],
   "source": [
    "from sklearn.metrics.pairwise import cosine_similarity\n",
    "import numpy as np\n",
    "\n",
    "def search(title):\n",
    "    title = clean_title(title)\n",
    "    query_vec = vectorizer.transform([title])\n",
    "    similarity = cosine_similarity(query_vec, tfidf).flatten()\n",
    "    indices = np.argpartition(similarity, -5)[-5:]\n",
    "    results = movies.iloc[indices].iloc[::-1]\n",
    "    \n",
    "    return results"
   ]
  },
  {
   "cell_type": "code",
   "execution_count": 11,
   "metadata": {},
   "outputs": [
    {
     "data": {
      "application/vnd.jupyter.widget-view+json": {
       "model_id": "91ada52170ea4c43a3697e22d36d3fe5",
       "version_major": 2,
       "version_minor": 0
      },
      "text/plain": [
       "Text(value='Toy Story', description='Movie Title:')"
      ]
     },
     "metadata": {},
     "output_type": "display_data"
    },
    {
     "data": {
      "application/vnd.jupyter.widget-view+json": {
       "model_id": "8b6e8e04f9f64ceea7bf56234c9ccf0e",
       "version_major": 2,
       "version_minor": 0
      },
      "text/plain": [
       "Output()"
      ]
     },
     "metadata": {},
     "output_type": "display_data"
    }
   ],
   "source": [
    "import ipywidgets as widgets\n",
    "from IPython.display import display\n",
    "\n",
    "movie_input = widgets.Text(\n",
    "    value = \"Toy Story\",\n",
    "    description = \"Movie Title:\",\n",
    "    disabled = False\n",
    ")\n",
    "movie_list = widgets.Output()\n",
    "\n",
    "def on_type(data):\n",
    "    with movie_list:\n",
    "        movie_list.clear_output()\n",
    "        title = data[\"new\"]\n",
    "        if len(title) > 3:\n",
    "            display(search(title))\n",
    "\n",
    "movie_input.observe(on_type, names = 'value')\n",
    "\n",
    "\n",
    "display(movie_input, movie_list)"
   ]
  },
  {
   "cell_type": "code",
   "execution_count": 12,
   "metadata": {},
   "outputs": [],
   "source": [
    "movie_id = 89745\n",
    "movie = movies[movies[\"movieId\"] == movie_id]"
   ]
  },
  {
   "cell_type": "code",
   "execution_count": 13,
   "metadata": {},
   "outputs": [],
   "source": [
    "#ratings.dtypes"
   ]
  },
  {
   "cell_type": "code",
   "execution_count": 14,
   "metadata": {},
   "outputs": [],
   "source": [
    "similar_users = ratings[(ratings[\"movieId\"] == movie_id) & (ratings[\"rating\"] > 4)][\"userId\"].unique()"
   ]
  },
  {
   "cell_type": "code",
   "execution_count": 15,
   "metadata": {},
   "outputs": [],
   "source": [
    "similar_user_recs = ratings[(ratings[\"userId\"].isin(similar_users)) & (ratings[\"rating\"] > 4)][\"movieId\"]"
   ]
  },
  {
   "cell_type": "code",
   "execution_count": 16,
   "metadata": {},
   "outputs": [],
   "source": [
    "similar_user_recs = similar_user_recs.value_counts() / len(similar_users)\n",
    "\n",
    "similar_user_recs = similar_user_recs[similar_user_recs > .10]"
   ]
  },
  {
   "cell_type": "code",
   "execution_count": 17,
   "metadata": {},
   "outputs": [],
   "source": [
    "all_users = ratings[(ratings[\"movieId\"].isin(similar_user_recs.index)) & (ratings[\"rating\"] > 4)]"
   ]
  },
  {
   "cell_type": "code",
   "execution_count": 18,
   "metadata": {},
   "outputs": [],
   "source": [
    "all_user_recs = all_users[\"movieId\"].value_counts() / len(all_users[\"userId\"].unique())\n"
   ]
  },
  {
   "cell_type": "code",
   "execution_count": 19,
   "metadata": {},
   "outputs": [],
   "source": [
    "rec_percentages = pd.concat([similar_user_recs, all_user_recs], axis=1)\n",
    "rec_percentages.columns = [\"similar\", \"all\"]"
   ]
  },
  {
   "cell_type": "code",
   "execution_count": 20,
   "metadata": {},
   "outputs": [],
   "source": [
    "#rec_percentages"
   ]
  },
  {
   "cell_type": "code",
   "execution_count": 21,
   "metadata": {},
   "outputs": [],
   "source": [
    "rec_percentages[\"score\"] = rec_percentages[\"similar\"] / rec_percentages[\"all\"]\n"
   ]
  },
  {
   "cell_type": "code",
   "execution_count": 22,
   "metadata": {},
   "outputs": [],
   "source": [
    "rec_percentages = rec_percentages.sort_values(\"score\", ascending=False)"
   ]
  },
  {
   "cell_type": "code",
   "execution_count": 23,
   "metadata": {},
   "outputs": [],
   "source": [
    "#rec_percentages"
   ]
  },
  {
   "cell_type": "code",
   "execution_count": 24,
   "metadata": {},
   "outputs": [],
   "source": [
    "#rec_percentages.head(10).merge(movies, left_index=True, right_on = \"movieId\")\n"
   ]
  },
  {
   "cell_type": "code",
   "execution_count": 25,
   "metadata": {},
   "outputs": [],
   "source": [
    "# Genre-based filtering additions\n",
    "\n",
    "# Create distinct list of genres\n",
    "unique_genres = sorted(list(set(list(chain(*[i.split('|') for i in movies.genres.unique().tolist()])))))\n",
    "unique_genres.pop(0) # Get rid of \"no genres listed\" element in list\n",
    "unique_genres.append(\"All Genres\")\n",
    "\n",
    "# create an object for TfidfVectorizer\n",
    "tfidf_vector = TfidfVectorizer(stop_words='english')\n",
    "# apply the object to the genres column\n",
    "tfidf_matrix = tfidf_vector.fit_transform(unique_genres)\n",
    "\n",
    "from sklearn.metrics.pairwise import linear_kernel\n",
    "# create the cosine similarity matrix\n",
    "sim_matrix = linear_kernel(tfidf_matrix,tfidf_matrix)\n",
    "\n",
    "# Function to find most similar genre\n",
    "def find_closest_genre(genre):\n",
    "   leven_scores = [(element, fuzz.ratio(element, genre)) for element in unique_genres]\n",
    "   sorted_leven_scores = sorted(leven_scores, key=lambda x: x[1], reverse=True)\n",
    "   closest_genre = sorted_leven_scores[0][0]\n",
    "   distance_score = sorted_leven_scores[0][1]\n",
    "   return closest_genre, distance_score   "
   ]
  },
  {
   "cell_type": "code",
   "execution_count": 26,
   "metadata": {},
   "outputs": [],
   "source": [
    "# Year filtering additions\n",
    "\n",
    "# Function to parse the year from a movie title\n",
    "def find_year(title):\n",
    "  year = title[title.find('(')+1:title.find(')')]\n",
    "  if year.isnumeric():\n",
    "    if (len(year) == 4):\n",
    "      return year\n",
    "    else:\n",
    "      pass\n"
   ]
  },
  {
   "cell_type": "code",
   "execution_count": 27,
   "metadata": {},
   "outputs": [],
   "source": [
    "movies[\"year\"] = movies[\"title\"].apply(find_year)\n",
    "#movies"
   ]
  },
  {
   "cell_type": "code",
   "execution_count": 28,
   "metadata": {},
   "outputs": [],
   "source": [
    "# Create distinct list of years\n",
    "\n",
    "unique_years = movies.year.copy().unique().tolist()\n",
    "unique_years.remove(None)\n",
    "unique_years.append(\"All Years\")\n"
   ]
  },
  {
   "cell_type": "code",
   "execution_count": 29,
   "metadata": {},
   "outputs": [],
   "source": [
    "def find_similar_movies(movie_id, genre_filter, year_filter):\n",
    "    similar_users = ratings[(ratings[\"movieId\"] == movie_id) & (ratings[\"rating\"] > 4)][\"userId\"].unique()\n",
    "    similar_user_recs = ratings[(ratings[\"userId\"].isin(similar_users)) & (ratings[\"rating\"] > 4)][\"movieId\"]\n",
    "    similar_user_recs = similar_user_recs.value_counts() / len(similar_users)\n",
    "    similar_user_recs = similar_user_recs[similar_user_recs > .010]\n",
    "\n",
    "    all_users = ratings[(ratings[\"movieId\"].isin(similar_user_recs.index)) & (ratings[\"rating\"] > 2)]\n",
    "    all_user_recs = all_users[\"movieId\"].value_counts() / len(all_users[\"userId\"].unique())\n",
    "\n",
    "    rec_percentages = pd.concat([similar_user_recs, all_user_recs], axis=1)\n",
    "    rec_percentages.columns = [\"similar\", \"all\"]\n",
    "    \n",
    "    rec_percentages[\"score\"] = rec_percentages[\"similar\"] / rec_percentages[\"all\"]\n",
    "    rec_percentages = rec_percentages.sort_values(\"score\", ascending=False)\n",
    "\n",
    "    # ADDITION 1: Changed the filtering of the results to incorporate genre filters\n",
    "    # Incorporate year filters\n",
    "    unfiltered_df = rec_percentages.merge(movies, left_index=True, right_on = \"movieId\")[[\"score\", \"title\", \"genres\", \"year\"]]\n",
    "\n",
    "    if genre_filter == \"All Genres\":\n",
    "      filtered_genre_df = unfiltered_df.head(10)\n",
    "    else:\n",
    "      filtered_genre_df = unfiltered_df[unfiltered_df.genres.str.contains(genre_filter)]\n",
    "      filtered_genre_df.genres = filtered_genre_df.genres.str.replace('|',', ', regex=True)\n",
    "    \n",
    "    if year_filter == \"All Years\":\n",
    "      filtered_year_df = filtered_genre_df.head(10)\n",
    "      \n",
    "    else:\n",
    "      filtered_year_df = filtered_genre_df[filtered_genre_df.year.str.contains(year_filter, na = False)].head(10)\n",
    "    \n",
    "    output = filtered_year_df.reset_index().rename(columns={'index': 'movie_id'})\n",
    "\n",
    "    return output\n",
    "\n",
    "# find_similar_movies(89745, 'Action', '2012') # Test the function with The Avengers and an added genre filter"
   ]
  },
  {
   "cell_type": "code",
   "execution_count": 30,
   "metadata": {},
   "outputs": [
    {
     "data": {
      "application/vnd.jupyter.widget-view+json": {
       "model_id": "3a8c028221fe408bb21c46184ca66cff",
       "version_major": 2,
       "version_minor": 0
      },
      "text/plain": [
       "interactive(children=(Dropdown(description='Genre:', index=2, options=('Action', 'Adventure', 'All Genres', 'A…"
      ]
     },
     "metadata": {},
     "output_type": "display_data"
    }
   ],
   "source": [
    "import ipywidgets as widgets\n",
    "from ipywidgets import *\n",
    "from IPython.display import display\n",
    "\n",
    "w_genre = widgets.Dropdown(\n",
    "    options = sorted(unique_genres), \n",
    "    description = 'Genre:',\n",
    "    value = 'All Genres'\n",
    ")\n",
    "\n",
    "w_year = widgets.Dropdown(\n",
    "    options = sorted(unique_years),\n",
    "    description = 'Release Year:',\n",
    "    value = 'All Years'\n",
    ")\n",
    "\n",
    "w_title = widgets.Text(\n",
    "    value = 'Toy Story',\n",
    "    description = 'Movie Title:',\n",
    "    disabled = False\n",
    ")\n",
    "\n",
    "def movie_recommender(genre, year, title):\n",
    "    if len(title) > 3:\n",
    "        results = search(title) \n",
    "        movie_id = results.iloc[0][\"movieId\"]\n",
    "        display(find_similar_movies(movie_id, genre, year))\n",
    "\n",
    "w_box = interactive(movie_recommender, genre=w_genre, year=w_year, title=w_title)\n",
    "\n",
    "display(w_box)"
   ]
  }
 ],
 "metadata": {
  "kernelspec": {
   "display_name": "Python 3 (ipykernel)",
   "language": "python",
   "name": "python3"
  },
  "language_info": {
   "codemirror_mode": {
    "name": "ipython",
    "version": 3
   },
   "file_extension": ".py",
   "mimetype": "text/x-python",
   "name": "python",
   "nbconvert_exporter": "python",
   "pygments_lexer": "ipython3",
   "version": "3.7.13"
  },
  "vscode": {
   "interpreter": {
    "hash": "62b9c7ece58fa4b733692210a99605aa8b5fbc56aacb56456647822fa9c40378"
   }
  }
 },
 "nbformat": 4,
 "nbformat_minor": 2
}
