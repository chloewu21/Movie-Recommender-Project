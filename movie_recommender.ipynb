{
 "cells": [
  {
   "cell_type": "code",
   "execution_count": 14,
   "metadata": {},
   "outputs": [],
   "source": [
    "import sklearn\n",
    "from sklearn.feature_extraction.text import TfidfVectorizer\n",
    "from sklearn.metrics.pairwise import cosine_similarity\n",
    "from sklearn.metrics.pairwise import linear_kernel\n",
    "import os\n",
    "import pandas as pd\n",
    "import numpy as np\n",
    "import re\n",
    "import ipywidgets as widgets\n",
    "from ipywidgets import *\n",
    "from IPython.display import display\n",
    "from fuzzywuzzy import fuzz\n",
    "from itertools import chain"
   ]
  },
  {
   "cell_type": "code",
   "execution_count": 15,
   "metadata": {},
   "outputs": [],
   "source": [
    "ratings = pd.read_csv('ratings.csv')\n",
    "movies = pd.read_csv('movies.csv')\n"
   ]
  },
  {
   "cell_type": "code",
   "execution_count": 16,
   "metadata": {},
   "outputs": [],
   "source": [
    "def clean_title(title):\n",
    "    title = re.sub(\"[^a-zA-Z0-9 ]\", \"\", title)\n",
    "    return title"
   ]
  },
  {
   "cell_type": "code",
   "execution_count": 17,
   "metadata": {},
   "outputs": [],
   "source": [
    "movies[\"clean_title\"] = movies[\"title\"].apply(clean_title)"
   ]
  },
  {
   "cell_type": "code",
   "execution_count": 18,
   "metadata": {},
   "outputs": [],
   "source": [
    "vectorizer = TfidfVectorizer(ngram_range=(1,2))\n",
    "tfidf = vectorizer.fit_transform(movies[\"clean_title\"])"
   ]
  },
  {
   "cell_type": "code",
   "execution_count": 19,
   "metadata": {},
   "outputs": [],
   "source": [
    "# Search engine that returns closest title\n",
    "def search(title):\n",
    "    title = clean_title(title)\n",
    "    query_vec = vectorizer.transform([title])\n",
    "    similarity = cosine_similarity(query_vec, tfidf).flatten()\n",
    "    indices = np.argpartition(similarity, -5)[-5:]\n",
    "    results = movies.iloc[indices].iloc[::-1]\n",
    "    \n",
    "    return results"
   ]
  },
  {
   "cell_type": "code",
   "execution_count": 20,
   "metadata": {},
   "outputs": [],
   "source": [
    "# Displays title search engine as widget\n",
    "movie_input = widgets.Text(\n",
    "    value = \"Toy Story\",\n",
    "    description = \"Movie Title:\",\n",
    "    disabled = False\n",
    ")\n",
    "movie_list = widgets.Output()\n",
    "\n",
    "def on_type(data):\n",
    "    with movie_list:\n",
    "        movie_list.clear_output()\n",
    "        title = data[\"new\"]\n",
    "        if len(title) > 3:\n",
    "            display(search(title))\n",
    "\n",
    "movie_input.observe(on_type, names = 'value')\n",
    "\n",
    "#display(movie_input, movie_list)"
   ]
  },
  {
   "cell_type": "code",
   "execution_count": 21,
   "metadata": {},
   "outputs": [],
   "source": [
    "# Genre-based filtering additions\n",
    "# Create unique list of genres\n",
    "unique_genres = sorted(list(set(list(chain(*[i.split('|') for i in movies.genres.unique().tolist()])))))\n",
    "unique_genres.pop(0) # Get rid of \"no genres listed\" element in list\n",
    "unique_genres.append(\"All Genres\")"
   ]
  },
  {
   "cell_type": "code",
   "execution_count": 22,
   "metadata": {},
   "outputs": [],
   "source": [
    "# Year filtering additions\n",
    "# Parse the year from a movie title\n",
    "def find_year(title):\n",
    "  year = title[title.find('(')+1:title.find(')')]\n",
    "  if year.isnumeric():\n",
    "    if (len(year) == 4):\n",
    "      return year\n",
    "    else:\n",
    "      pass\n"
   ]
  },
  {
   "cell_type": "code",
   "execution_count": 23,
   "metadata": {},
   "outputs": [],
   "source": [
    "movies[\"year\"] = movies[\"title\"].apply(find_year)"
   ]
  },
  {
   "cell_type": "code",
   "execution_count": 24,
   "metadata": {},
   "outputs": [],
   "source": [
    "# Create unique list of years\n",
    "unique_years = movies.year.copy().unique().tolist()\n",
    "unique_years.remove(None)\n",
    "unique_years.append(\"All Years\")"
   ]
  },
  {
   "cell_type": "code",
   "execution_count": 25,
   "metadata": {},
   "outputs": [],
   "source": [
    "# Movie recommender with genre and year filters\n",
    "def find_similar_movies(movie_id, genre_filter, year_filter):\n",
    "    similar_users = ratings[(ratings[\"movieId\"] == movie_id) & (ratings[\"rating\"] > 4)][\"userId\"].unique()\n",
    "    similar_user_recs = ratings[(ratings[\"userId\"].isin(similar_users)) & (ratings[\"rating\"] > 3)][\"movieId\"]\n",
    "    similar_user_recs = similar_user_recs.value_counts() / len(similar_users)\n",
    "    similar_user_recs = similar_user_recs[similar_user_recs > .01]\n",
    "\n",
    "    all_users = ratings[(ratings[\"movieId\"].isin(similar_user_recs.index)) & (ratings[\"rating\"] > 2)]\n",
    "    all_user_recs = all_users[\"movieId\"].value_counts() / len(all_users[\"userId\"].unique())\n",
    "\n",
    "    rec_percentages = pd.concat([similar_user_recs, all_user_recs], axis=1)\n",
    "    rec_percentages.columns = [\"similar\", \"all\"]\n",
    "    \n",
    "    rec_percentages[\"score\"] = rec_percentages[\"similar\"] / rec_percentages[\"all\"]\n",
    "    rec_percentages = rec_percentages.sort_values(\"score\", ascending=False)\n",
    "\n",
    "    # Genre and year filters\n",
    "    unfiltered_df = rec_percentages.merge(movies, left_index=True, right_on = \"movieId\")[[\"score\", \"title\", \"genres\", \"year\"]]\n",
    "\n",
    "    if genre_filter == \"All Genres\":\n",
    "      filtered_genre_df = unfiltered_df\n",
    "    else:\n",
    "      filtered_genre_df = unfiltered_df[unfiltered_df.genres.str.contains(genre_filter)]\n",
    "      filtered_genre_df.genres = filtered_genre_df.genres.str.replace('|',', ', regex=True)\n",
    "    \n",
    "    if year_filter == \"All Years\":\n",
    "      filtered_year_df = filtered_genre_df.head(10)\n",
    "      \n",
    "    else:\n",
    "      filtered_year_df = filtered_genre_df[filtered_genre_df.year.str.contains(year_filter, na = False)].head(10)\n",
    "    \n",
    "    output = filtered_year_df.reset_index().rename(columns={'index': 'movie_id'})\n",
    "\n",
    "    return output\n",
    "\n",
    "# find_similar_movies(89745, 'Action', '2012') # Test the function with The Avengers and an added genre filter"
   ]
  },
  {
   "cell_type": "code",
   "execution_count": 26,
   "metadata": {},
   "outputs": [
    {
     "data": {
      "text/plain": "interactive(children=(Dropdown(description='Genre:', index=2, options=('Action', 'Adventure', 'All Genres', 'A…",
      "application/vnd.jupyter.widget-view+json": {
       "version_major": 2,
       "version_minor": 0,
       "model_id": "a30ab3f7c8cf4837a8324b28fcadbc8e"
      }
     },
     "metadata": {},
     "output_type": "display_data"
    },
    {
     "data": {
      "text/plain": "interactive(children=(Dropdown(description='Genre:', index=2, options=('Action', 'Adventure', 'All Genres', 'A…",
      "application/vnd.jupyter.widget-view+json": {
       "version_major": 2,
       "version_minor": 0,
       "model_id": "18b3246eac964c4e83380a442196b5f7"
      }
     },
     "metadata": {},
     "output_type": "display_data"
    }
   ],
   "source": [
    "w_genre = widgets.Dropdown(\n",
    "    options = sorted(unique_genres), \n",
    "    description = 'Genre:',\n",
    "    value = 'All Genres'\n",
    ")\n",
    "\n",
    "w_year = widgets.Dropdown(\n",
    "    options = sorted(unique_years),\n",
    "    description = 'Release Year:',\n",
    "    value = 'All Years'\n",
    ")\n",
    "\n",
    "w_title = widgets.Text(\n",
    "    value = 'Toy Story',\n",
    "    description = 'Movie Title:',\n",
    "    disabled = False\n",
    ")\n",
    "\n",
    "def movie_recommender(genre, year, title):\n",
    "    if len(title) > 3:\n",
    "        results = search(title) \n",
    "        movie_id = results.iloc[0][\"movieId\"]\n",
    "        display(find_similar_movies(movie_id, genre, year))\n",
    "\n",
    "w_box = interactive(movie_recommender, genre=w_genre, year=w_year, title=w_title)\n",
    "\n",
    "display(w_box)"
   ]
  }
 ],
 "metadata": {
  "kernelspec": {
   "display_name": "Python 3.9.12 ('conda_env')",
   "language": "python",
   "name": "python3"
  },
  "language_info": {
   "codemirror_mode": {
    "name": "ipython",
    "version": 3
   },
   "file_extension": ".py",
   "mimetype": "text/x-python",
   "name": "python",
   "nbconvert_exporter": "python",
   "pygments_lexer": "ipython3",
   "version": "3.9.12"
  },
  "vscode": {
   "interpreter": {
    "hash": "d03de81d2e720b356e5c76ee028fb6c73bb9324c583319be9a34efc32de3ce6b"
   }
  }
 },
 "nbformat": 4,
 "nbformat_minor": 2
}